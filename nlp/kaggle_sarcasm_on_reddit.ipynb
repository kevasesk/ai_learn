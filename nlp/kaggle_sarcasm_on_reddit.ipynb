{
 "cells": [
  {
   "cell_type": "code",
   "execution_count": 1,
   "id": "f2b84bd1",
   "metadata": {},
   "outputs": [
    {
     "name": "stderr",
     "output_type": "stream",
     "text": [
      "2025-06-05 18:46:08.667589: E external/local_xla/xla/stream_executor/cuda/cuda_fft.cc:467] Unable to register cuFFT factory: Attempting to register factory for plugin cuFFT when one has already been registered\n",
      "WARNING: All log messages before absl::InitializeLog() is called are written to STDERR\n",
      "E0000 00:00:1749138368.686286  301642 cuda_dnn.cc:8579] Unable to register cuDNN factory: Attempting to register factory for plugin cuDNN when one has already been registered\n",
      "E0000 00:00:1749138368.692364  301642 cuda_blas.cc:1407] Unable to register cuBLAS factory: Attempting to register factory for plugin cuBLAS when one has already been registered\n",
      "W0000 00:00:1749138368.707218  301642 computation_placer.cc:177] computation placer already registered. Please check linkage and avoid linking the same target more than once.\n",
      "W0000 00:00:1749138368.707243  301642 computation_placer.cc:177] computation placer already registered. Please check linkage and avoid linking the same target more than once.\n",
      "W0000 00:00:1749138368.707244  301642 computation_placer.cc:177] computation placer already registered. Please check linkage and avoid linking the same target more than once.\n",
      "W0000 00:00:1749138368.707246  301642 computation_placer.cc:177] computation placer already registered. Please check linkage and avoid linking the same target more than once.\n",
      "2025-06-05 18:46:08.713193: I tensorflow/core/platform/cpu_feature_guard.cc:210] This TensorFlow binary is optimized to use available CPU instructions in performance-critical operations.\n",
      "To enable the following instructions: AVX2 AVX_VNNI FMA, in other operations, rebuild TensorFlow with the appropriate compiler flags.\n"
     ]
    }
   ],
   "source": [
    "import kagglehub\n",
    "import pandas as pd\n",
    "import numpy as np\n",
    "from transformers import BertTokenizer, TFBertModel\n",
    "import tensorflow as tf"
   ]
  },
  {
   "cell_type": "code",
   "execution_count": 2,
   "id": "38bf25c1",
   "metadata": {},
   "outputs": [
    {
     "name": "stdout",
     "output_type": "stream",
     "text": [
      "Warning: Looks like you're using an outdated `kagglehub` version (installed: 0.3.11), please consider upgrading to the latest version (0.3.12).\n",
      "Path to dataset files: /home/eugen/.cache/kagglehub/datasets/danofer/sarcasm/versions/4\n"
     ]
    }
   ],
   "source": [
    "# Download latest version\n",
    "path = kagglehub.dataset_download(\"danofer/sarcasm\")\n",
    "\n",
    "print(\"Path to dataset files:\", path)"
   ]
  },
  {
   "cell_type": "code",
   "execution_count": 3,
   "id": "38a35735",
   "metadata": {},
   "outputs": [
    {
     "data": {
      "text/html": [
       "<div>\n",
       "<style scoped>\n",
       "    .dataframe tbody tr th:only-of-type {\n",
       "        vertical-align: middle;\n",
       "    }\n",
       "\n",
       "    .dataframe tbody tr th {\n",
       "        vertical-align: top;\n",
       "    }\n",
       "\n",
       "    .dataframe thead th {\n",
       "        text-align: right;\n",
       "    }\n",
       "</style>\n",
       "<table border=\"1\" class=\"dataframe\">\n",
       "  <thead>\n",
       "    <tr style=\"text-align: right;\">\n",
       "      <th></th>\n",
       "      <th>label</th>\n",
       "      <th>comment</th>\n",
       "      <th>author</th>\n",
       "      <th>subreddit</th>\n",
       "      <th>score</th>\n",
       "      <th>ups</th>\n",
       "      <th>downs</th>\n",
       "      <th>date</th>\n",
       "      <th>created_utc</th>\n",
       "      <th>parent_comment</th>\n",
       "    </tr>\n",
       "  </thead>\n",
       "  <tbody>\n",
       "    <tr>\n",
       "      <th>0</th>\n",
       "      <td>0</td>\n",
       "      <td>NC and NH.</td>\n",
       "      <td>Trumpbart</td>\n",
       "      <td>politics</td>\n",
       "      <td>2</td>\n",
       "      <td>-1</td>\n",
       "      <td>-1</td>\n",
       "      <td>2016-10</td>\n",
       "      <td>2016-10-16 23:55:23</td>\n",
       "      <td>Yeah, I get that argument. At this point, I'd ...</td>\n",
       "    </tr>\n",
       "    <tr>\n",
       "      <th>1</th>\n",
       "      <td>0</td>\n",
       "      <td>You do know west teams play against west teams...</td>\n",
       "      <td>Shbshb906</td>\n",
       "      <td>nba</td>\n",
       "      <td>-4</td>\n",
       "      <td>-1</td>\n",
       "      <td>-1</td>\n",
       "      <td>2016-11</td>\n",
       "      <td>2016-11-01 00:24:10</td>\n",
       "      <td>The blazers and Mavericks (The wests 5 and 6 s...</td>\n",
       "    </tr>\n",
       "    <tr>\n",
       "      <th>2</th>\n",
       "      <td>0</td>\n",
       "      <td>They were underdogs earlier today, but since G...</td>\n",
       "      <td>Creepeth</td>\n",
       "      <td>nfl</td>\n",
       "      <td>3</td>\n",
       "      <td>3</td>\n",
       "      <td>0</td>\n",
       "      <td>2016-09</td>\n",
       "      <td>2016-09-22 21:45:37</td>\n",
       "      <td>They're favored to win.</td>\n",
       "    </tr>\n",
       "  </tbody>\n",
       "</table>\n",
       "</div>"
      ],
      "text/plain": [
       "   label                                            comment     author  \\\n",
       "0      0                                         NC and NH.  Trumpbart   \n",
       "1      0  You do know west teams play against west teams...  Shbshb906   \n",
       "2      0  They were underdogs earlier today, but since G...   Creepeth   \n",
       "\n",
       "  subreddit  score  ups  downs     date          created_utc  \\\n",
       "0  politics      2   -1     -1  2016-10  2016-10-16 23:55:23   \n",
       "1       nba     -4   -1     -1  2016-11  2016-11-01 00:24:10   \n",
       "2       nfl      3    3      0  2016-09  2016-09-22 21:45:37   \n",
       "\n",
       "                                      parent_comment  \n",
       "0  Yeah, I get that argument. At this point, I'd ...  \n",
       "1  The blazers and Mavericks (The wests 5 and 6 s...  \n",
       "2                            They're favored to win.  "
      ]
     },
     "execution_count": 3,
     "metadata": {},
     "output_type": "execute_result"
    }
   ],
   "source": [
    "dataset = pd.read_csv(path + '/train-balanced-sarcasm.csv')\n",
    "dataset.head(3)"
   ]
  },
  {
   "cell_type": "code",
   "execution_count": 4,
   "id": "2e7f1578",
   "metadata": {},
   "outputs": [
    {
     "name": "stdout",
     "output_type": "stream",
     "text": [
      "<class 'pandas.core.frame.DataFrame'>\n",
      "Index: 10000 entries, 508230 to 4618\n",
      "Data columns (total 2 columns):\n",
      " #   Column   Non-Null Count  Dtype \n",
      "---  ------   --------------  ----- \n",
      " 0   label    10000 non-null  int64 \n",
      " 1   comment  9999 non-null   object\n",
      "dtypes: int64(1), object(1)\n",
      "memory usage: 234.4+ KB\n"
     ]
    },
    {
     "data": {
      "text/plain": [
       "(None,\n",
       "         label                                            comment\n",
       " 508230      0                                               Cool\n",
       " 110306      1  or at least put them all in the same place so ...\n",
       " 581170      0                                        yay 150mil!,\n",
       " label      0\n",
       " comment    1\n",
       " dtype: int64)"
      ]
     },
     "execution_count": 4,
     "metadata": {},
     "output_type": "execute_result"
    }
   ],
   "source": [
    "dataset = dataset[['label', 'comment']]\n",
    "dataset = dataset.sample(n=10000)\n",
    "dataset.info(), dataset.head(3), dataset.isna().sum()"
   ]
  },
  {
   "cell_type": "code",
   "execution_count": 5,
   "id": "7cd6a265",
   "metadata": {},
   "outputs": [
    {
     "data": {
      "text/plain": [
       "label      0\n",
       "comment    0\n",
       "dtype: int64"
      ]
     },
     "execution_count": 5,
     "metadata": {},
     "output_type": "execute_result"
    }
   ],
   "source": [
    "dataset.dropna(inplace=True)\n",
    "dataset.isna().sum()"
   ]
  },
  {
   "cell_type": "code",
   "execution_count": 6,
   "id": "0b5525a9",
   "metadata": {},
   "outputs": [
    {
     "data": {
      "text/html": [
       "<div>\n",
       "<style scoped>\n",
       "    .dataframe tbody tr th:only-of-type {\n",
       "        vertical-align: middle;\n",
       "    }\n",
       "\n",
       "    .dataframe tbody tr th {\n",
       "        vertical-align: top;\n",
       "    }\n",
       "\n",
       "    .dataframe thead th {\n",
       "        text-align: right;\n",
       "    }\n",
       "</style>\n",
       "<table border=\"1\" class=\"dataframe\">\n",
       "  <thead>\n",
       "    <tr style=\"text-align: right;\">\n",
       "      <th></th>\n",
       "      <th>label</th>\n",
       "      <th>comment</th>\n",
       "    </tr>\n",
       "  </thead>\n",
       "  <tbody>\n",
       "    <tr>\n",
       "      <th>652095</th>\n",
       "      <td>0</td>\n",
       "      <td>if it has dna or rna it has protein</td>\n",
       "    </tr>\n",
       "    <tr>\n",
       "      <th>387112</th>\n",
       "      <td>1</td>\n",
       "      <td>dont worry they have gear score brackets</td>\n",
       "    </tr>\n",
       "    <tr>\n",
       "      <th>485395</th>\n",
       "      <td>1</td>\n",
       "      <td>lunatone and solrock confirmed new legendaries</td>\n",
       "    </tr>\n",
       "    <tr>\n",
       "      <th>862310</th>\n",
       "      <td>1</td>\n",
       "      <td>its not like ajax and barcelona have a history...</td>\n",
       "    </tr>\n",
       "    <tr>\n",
       "      <th>548128</th>\n",
       "      <td>1</td>\n",
       "      <td>it doesnt matter you fucking shitlord</td>\n",
       "    </tr>\n",
       "    <tr>\n",
       "      <th>321369</th>\n",
       "      <td>1</td>\n",
       "      <td>baka yung ipapa vp nila si mocha uson</td>\n",
       "    </tr>\n",
       "    <tr>\n",
       "      <th>136345</th>\n",
       "      <td>0</td>\n",
       "      <td>yeah ended up winning  after that</td>\n",
       "    </tr>\n",
       "    <tr>\n",
       "      <th>444313</th>\n",
       "      <td>0</td>\n",
       "      <td>just the first  if you are using serato the ot...</td>\n",
       "    </tr>\n",
       "    <tr>\n",
       "      <th>126215</th>\n",
       "      <td>1</td>\n",
       "      <td>you forgot the</td>\n",
       "    </tr>\n",
       "    <tr>\n",
       "      <th>564257</th>\n",
       "      <td>0</td>\n",
       "      <td>except bernie sanders got like x more coverage</td>\n",
       "    </tr>\n",
       "  </tbody>\n",
       "</table>\n",
       "</div>"
      ],
      "text/plain": [
       "        label                                            comment\n",
       "652095      0                if it has dna or rna it has protein\n",
       "387112      1           dont worry they have gear score brackets\n",
       "485395      1     lunatone and solrock confirmed new legendaries\n",
       "862310      1  its not like ajax and barcelona have a history...\n",
       "548128      1              it doesnt matter you fucking shitlord\n",
       "321369      1              baka yung ipapa vp nila si mocha uson\n",
       "136345      0                  yeah ended up winning  after that\n",
       "444313      0  just the first  if you are using serato the ot...\n",
       "126215      1                                     you forgot the\n",
       "564257      0     except bernie sanders got like x more coverage"
      ]
     },
     "execution_count": 6,
     "metadata": {},
     "output_type": "execute_result"
    }
   ],
   "source": [
    "dataset['comment'] = dataset['comment'].apply(lambda comment: comment.lower())\n",
    "dataset['comment'] = dataset['comment'].str.replace(r'[^a-zA-Z\\s]', '', regex=True)\n",
    "dataset.sample(10)"
   ]
  },
  {
   "cell_type": "code",
   "execution_count": 7,
   "id": "4ada2415",
   "metadata": {},
   "outputs": [],
   "source": [
    "tokenizer = BertTokenizer.from_pretrained('google-bert/bert-base-uncased')"
   ]
  },
  {
   "cell_type": "code",
   "execution_count": 8,
   "id": "2af95dcc",
   "metadata": {},
   "outputs": [
    {
     "data": {
      "text/plain": [
       "{'input_ids': array([[  101,  4658,   102, ...,     0,     0,     0],\n",
       "       [  101,  2030,  2012, ...,     0,     0,     0],\n",
       "       [  101,  8038,  2100, ...,     0,     0,     0],\n",
       "       ...,\n",
       "       [  101, 13659,  1999, ...,     0,     0,     0],\n",
       "       [  101,  2092,  2008, ...,     0,     0,     0],\n",
       "       [  101,  2821,  6300, ...,     0,     0,     0]]), 'token_type_ids': array([[0, 0, 0, ..., 0, 0, 0],\n",
       "       [0, 0, 0, ..., 0, 0, 0],\n",
       "       [0, 0, 0, ..., 0, 0, 0],\n",
       "       ...,\n",
       "       [0, 0, 0, ..., 0, 0, 0],\n",
       "       [0, 0, 0, ..., 0, 0, 0],\n",
       "       [0, 0, 0, ..., 0, 0, 0]]), 'attention_mask': array([[1, 1, 1, ..., 0, 0, 0],\n",
       "       [1, 1, 1, ..., 0, 0, 0],\n",
       "       [1, 1, 1, ..., 0, 0, 0],\n",
       "       ...,\n",
       "       [1, 1, 1, ..., 0, 0, 0],\n",
       "       [1, 1, 1, ..., 0, 0, 0],\n",
       "       [1, 1, 1, ..., 0, 0, 0]])}"
      ]
     },
     "execution_count": 8,
     "metadata": {},
     "output_type": "execute_result"
    }
   ],
   "source": [
    "def tokenize_text(text):\n",
    "    return tokenizer(\n",
    "         text.tolist(),\n",
    "         max_length = 100,\n",
    "         truncation = True,\n",
    "         padding = 'max_length',\n",
    "         return_tensors = 'np'\n",
    "    )\n",
    "\n",
    "tokenized_comments = tokenize_text(dataset['comment'])\n",
    "tokenized_comments"
   ]
  },
  {
   "cell_type": "code",
   "execution_count": null,
   "id": "0663cab5",
   "metadata": {},
   "outputs": [
    {
     "name": "stderr",
     "output_type": "stream",
     "text": [
      "I0000 00:00:1749138382.065853  301642 gpu_process_state.cc:208] Using CUDA malloc Async allocator for GPU: 0\n",
      "I0000 00:00:1749138382.066108  301642 gpu_device.cc:2019] Created device /job:localhost/replica:0/task:0/device:GPU:0 with 6257 MB memory:  -> device: 0, name: NVIDIA GeForce RTX 4070 Laptop GPU, pci bus id: 0000:01:00.0, compute capability: 8.9\n",
      "Some weights of the PyTorch model were not used when initializing the TF 2.0 model TFBertModel: ['cls.predictions.transform.dense.bias', 'cls.predictions.bias', 'cls.predictions.transform.dense.weight', 'cls.predictions.transform.LayerNorm.weight', 'cls.predictions.transform.LayerNorm.bias', 'cls.seq_relationship.bias', 'cls.seq_relationship.weight']\n",
      "- This IS expected if you are initializing TFBertModel from a PyTorch model trained on another task or with another architecture (e.g. initializing a TFBertForSequenceClassification model from a BertForPreTraining model).\n",
      "- This IS NOT expected if you are initializing TFBertModel from a PyTorch model that you expect to be exactly identical (e.g. initializing a TFBertForSequenceClassification model from a BertForSequenceClassification model).\n",
      "All the weights of TFBertModel were initialized from the PyTorch model.\n",
      "If your task is similar to the task the model of the checkpoint was trained on, you can already use TFBertModel for predictions without further training.\n"
     ]
    }
   ],
   "source": [
    "bert_model = TFBertModel.from_pretrained('bert-base-uncased')\n",
    "model = tf.keras.Sequential([\n",
    "    bert_model,\n",
    "    tf.keras.layers.Lambda(lambda bert_output: bert_output.pooler_output, name=\"extract_pooler_output\"),\n",
    "    tf.keras.layers.Dense(128, activation='relu'),\n",
    "    tf.keras.layers.Dropout(0.3),\n",
    "    tf.keras.layers.Dense(32, activation='relu'),\n",
    "    tf.keras.layers.Dropout(0.3),\n",
    "    tf.keras.layers.Dense(1, activation='sigmoid')\n",
    "])\n",
    "optimizer = tf.keras.optimizers.Adam(learning_rate=3e-5)\n",
    "model.compile(optimizer=optimizer, loss='binary_crossentropy', metrics=['accuracy'])"
   ]
  },
  {
   "cell_type": "code",
   "execution_count": 10,
   "id": "31c23305",
   "metadata": {},
   "outputs": [
    {
     "name": "stdout",
     "output_type": "stream",
     "text": [
      "Epoch 1/10\n"
     ]
    },
    {
     "name": "stderr",
     "output_type": "stream",
     "text": [
      "WARNING: All log messages before absl::InitializeLog() is called are written to STDERR\n",
      "I0000 00:00:1749138405.814049  301747 service.cc:152] XLA service 0x771a142a3fa0 initialized for platform CUDA (this does not guarantee that XLA will be used). Devices:\n",
      "I0000 00:00:1749138405.814077  301747 service.cc:160]   StreamExecutor device (0): NVIDIA GeForce RTX 4070 Laptop GPU, Compute Capability 8.9\n",
      "2025-06-05 18:46:45.820301: I tensorflow/compiler/mlir/tensorflow/utils/dump_mlir_util.cc:269] disabling MLIR crash reproducer, set env var `MLIR_CRASH_REPRODUCER_DIRECTORY` to enable.\n",
      "I0000 00:00:1749138405.837679  301747 cuda_dnn.cc:529] Loaded cuDNN version 90300\n",
      "I0000 00:00:1749138405.956811  301747 device_compiler.h:188] Compiled cluster using XLA!  This line is logged at most once for the lifetime of the process.\n"
     ]
    },
    {
     "name": "stdout",
     "output_type": "stream",
     "text": [
      "500/500 [==============================] - 135s 169ms/step - loss: 0.6520 - accuracy: 0.6040\n",
      "Epoch 2/10\n",
      "500/500 [==============================] - 74s 148ms/step - loss: 0.5222 - accuracy: 0.7431\n",
      "Epoch 3/10\n",
      "500/500 [==============================] - 75s 150ms/step - loss: 0.3033 - accuracy: 0.8762\n",
      "Epoch 4/10\n",
      "500/500 [==============================] - 75s 150ms/step - loss: 0.1304 - accuracy: 0.9537\n",
      "Epoch 5/10\n",
      "500/500 [==============================] - 74s 147ms/step - loss: 0.0714 - accuracy: 0.9780\n",
      "Epoch 6/10\n",
      "500/500 [==============================] - 74s 148ms/step - loss: 0.0573 - accuracy: 0.9801\n",
      "Epoch 7/10\n",
      "500/500 [==============================] - 74s 148ms/step - loss: 0.0431 - accuracy: 0.9849\n",
      "Epoch 8/10\n",
      "500/500 [==============================] - 74s 148ms/step - loss: 0.0317 - accuracy: 0.9887\n",
      "Epoch 9/10\n",
      "500/500 [==============================] - 73s 146ms/step - loss: 0.0352 - accuracy: 0.9876\n",
      "Epoch 10/10\n",
      "500/500 [==============================] - 73s 145ms/step - loss: 0.0268 - accuracy: 0.9897\n"
     ]
    },
    {
     "data": {
      "text/plain": [
       "<tf_keras.src.callbacks.History at 0x771b841ce9e0>"
      ]
     },
     "execution_count": 10,
     "metadata": {},
     "output_type": "execute_result"
    }
   ],
   "source": [
    "from sklearn.model_selection import train_test_split\n",
    "\n",
    "\n",
    "labels_tf = tf.constant(dataset['label'].values)\n",
    "indices = np.arange(dataset.shape[0])\n",
    "train_indices, test_indices = train_test_split(\n",
    "    indices,\n",
    "    test_size=0.2,\n",
    "    stratify=dataset['label'].values\n",
    ")\n",
    "\n",
    "X_train = {\n",
    "        'input_ids': tf.gather(tokenized_comments['input_ids'], train_indices),\n",
    "        'attention_mask': tf.gather(tokenized_comments['attention_mask'], train_indices)\n",
    "    }\n",
    "\n",
    "X_test = {\n",
    "    'input_ids': tf.gather(tokenized_comments['input_ids'], test_indices),\n",
    "    'attention_mask': tf.gather(tokenized_comments['attention_mask'], test_indices)\n",
    "}\n",
    "\n",
    "y_train = tf.gather(labels_tf, train_indices)\n",
    "y_test = tf.gather(labels_tf, test_indices)\n",
    "\n",
    "model.fit(X_train, y_train, epochs=10, batch_size=16)"
   ]
  },
  {
   "cell_type": "code",
   "execution_count": 11,
   "id": "351f0042",
   "metadata": {},
   "outputs": [
    {
     "name": "stdout",
     "output_type": "stream",
     "text": [
      "250/250 [==============================] - 30s 113ms/step\n",
      "63/63 [==============================] - 7s 113ms/step\n"
     ]
    }
   ],
   "source": [
    "y_pred_trained = model.predict(X_train)\n",
    "y_pred_test = model.predict(X_test)"
   ]
  },
  {
   "cell_type": "code",
   "execution_count": 15,
   "id": "7addfae9",
   "metadata": {},
   "outputs": [
    {
     "data": {
      "text/plain": [
       "(array([0.9998473], dtype=float32),\n",
       " array([8.978972e-05], dtype=float32),\n",
       " array([0.9998442], dtype=float32),\n",
       " array([9.548901e-05], dtype=float32))"
      ]
     },
     "execution_count": 15,
     "metadata": {},
     "output_type": "execute_result"
    }
   ],
   "source": [
    "max(y_pred_trained), min(y_pred_trained), max(y_pred_test), min(y_pred_test)"
   ]
  },
  {
   "cell_type": "code",
   "execution_count": 16,
   "id": "06cf60db",
   "metadata": {},
   "outputs": [
    {
     "data": {
      "text/html": [
       "<div>\n",
       "<style scoped>\n",
       "    .dataframe tbody tr th:only-of-type {\n",
       "        vertical-align: middle;\n",
       "    }\n",
       "\n",
       "    .dataframe tbody tr th {\n",
       "        vertical-align: top;\n",
       "    }\n",
       "\n",
       "    .dataframe thead th {\n",
       "        text-align: right;\n",
       "    }\n",
       "</style>\n",
       "<table border=\"1\" class=\"dataframe\">\n",
       "  <thead>\n",
       "    <tr style=\"text-align: right;\">\n",
       "      <th></th>\n",
       "      <th>label</th>\n",
       "      <th>comment</th>\n",
       "      <th>predicted</th>\n",
       "    </tr>\n",
       "  </thead>\n",
       "  <tbody>\n",
       "    <tr>\n",
       "      <th>805898</th>\n",
       "      <td>0</td>\n",
       "      <td>asteroids was originally a vector graphics bas...</td>\n",
       "      <td>0</td>\n",
       "    </tr>\n",
       "    <tr>\n",
       "      <th>213199</th>\n",
       "      <td>1</td>\n",
       "      <td>yes because playing in the nba and finding a p...</td>\n",
       "      <td>1</td>\n",
       "    </tr>\n",
       "    <tr>\n",
       "      <th>403650</th>\n",
       "      <td>1</td>\n",
       "      <td>of course they were</td>\n",
       "      <td>1</td>\n",
       "    </tr>\n",
       "    <tr>\n",
       "      <th>49934</th>\n",
       "      <td>0</td>\n",
       "      <td>no worse than what im already doing</td>\n",
       "      <td>0</td>\n",
       "    </tr>\n",
       "    <tr>\n",
       "      <th>879357</th>\n",
       "      <td>1</td>\n",
       "      <td>illuminati</td>\n",
       "      <td>1</td>\n",
       "    </tr>\n",
       "    <tr>\n",
       "      <th>763996</th>\n",
       "      <td>0</td>\n",
       "      <td>most likely florida</td>\n",
       "      <td>0</td>\n",
       "    </tr>\n",
       "    <tr>\n",
       "      <th>414074</th>\n",
       "      <td>0</td>\n",
       "      <td>happy toking</td>\n",
       "      <td>0</td>\n",
       "    </tr>\n",
       "    <tr>\n",
       "      <th>753291</th>\n",
       "      <td>0</td>\n",
       "      <td>those fast breaks would sure be worth getting ...</td>\n",
       "      <td>1</td>\n",
       "    </tr>\n",
       "    <tr>\n",
       "      <th>309499</th>\n",
       "      <td>1</td>\n",
       "      <td>man i sure hope we get a lot more of robyn</td>\n",
       "      <td>1</td>\n",
       "    </tr>\n",
       "    <tr>\n",
       "      <th>426300</th>\n",
       "      <td>1</td>\n",
       "      <td>yeah you can definetly see that the sjw have t...</td>\n",
       "      <td>1</td>\n",
       "    </tr>\n",
       "    <tr>\n",
       "      <th>782136</th>\n",
       "      <td>0</td>\n",
       "      <td>i was part of umsu council so i know all oo</td>\n",
       "      <td>0</td>\n",
       "    </tr>\n",
       "    <tr>\n",
       "      <th>526527</th>\n",
       "      <td>0</td>\n",
       "      <td></td>\n",
       "      <td>0</td>\n",
       "    </tr>\n",
       "    <tr>\n",
       "      <th>174262</th>\n",
       "      <td>0</td>\n",
       "      <td>the blade got switched with a fish</td>\n",
       "      <td>0</td>\n",
       "    </tr>\n",
       "    <tr>\n",
       "      <th>780583</th>\n",
       "      <td>0</td>\n",
       "      <td>thats kick ass idea to bad i dont have a walma...</td>\n",
       "      <td>0</td>\n",
       "    </tr>\n",
       "    <tr>\n",
       "      <th>930213</th>\n",
       "      <td>0</td>\n",
       "      <td>i thought the most plausible is that you are t...</td>\n",
       "      <td>0</td>\n",
       "    </tr>\n",
       "    <tr>\n",
       "      <th>151407</th>\n",
       "      <td>0</td>\n",
       "      <td>oh my</td>\n",
       "      <td>0</td>\n",
       "    </tr>\n",
       "    <tr>\n",
       "      <th>2378</th>\n",
       "      <td>1</td>\n",
       "      <td>gotta look like im payin my child support</td>\n",
       "      <td>1</td>\n",
       "    </tr>\n",
       "    <tr>\n",
       "      <th>350769</th>\n",
       "      <td>0</td>\n",
       "      <td>trump has said hes completely fine with medici...</td>\n",
       "      <td>0</td>\n",
       "    </tr>\n",
       "    <tr>\n",
       "      <th>524541</th>\n",
       "      <td>1</td>\n",
       "      <td>how dare these irresponsible parents let their...</td>\n",
       "      <td>1</td>\n",
       "    </tr>\n",
       "    <tr>\n",
       "      <th>159254</th>\n",
       "      <td>1</td>\n",
       "      <td>surely we should just take those family member...</td>\n",
       "      <td>1</td>\n",
       "    </tr>\n",
       "  </tbody>\n",
       "</table>\n",
       "</div>"
      ],
      "text/plain": [
       "        label                                            comment  predicted\n",
       "805898      0  asteroids was originally a vector graphics bas...          0\n",
       "213199      1  yes because playing in the nba and finding a p...          1\n",
       "403650      1                                of course they were          1\n",
       "49934       0               no worse than what im already doing           0\n",
       "879357      1                                         illuminati          1\n",
       "763996      0                                most likely florida          0\n",
       "414074      0                                       happy toking          0\n",
       "753291      0  those fast breaks would sure be worth getting ...          1\n",
       "309499      1         man i sure hope we get a lot more of robyn          1\n",
       "426300      1  yeah you can definetly see that the sjw have t...          1\n",
       "782136      0        i was part of umsu council so i know all oo          0\n",
       "526527      0                                                             0\n",
       "174262      0                 the blade got switched with a fish          0\n",
       "780583      0  thats kick ass idea to bad i dont have a walma...          0\n",
       "930213      0  i thought the most plausible is that you are t...          0\n",
       "151407      0                                              oh my          0\n",
       "2378        1          gotta look like im payin my child support          1\n",
       "350769      0  trump has said hes completely fine with medici...          0\n",
       "524541      1  how dare these irresponsible parents let their...          1\n",
       "159254      1  surely we should just take those family member...          1"
      ]
     },
     "execution_count": 16,
     "metadata": {},
     "output_type": "execute_result"
    }
   ],
   "source": [
    "y_pred_train_results = (y_pred_trained > 0.5).astype(int).flatten()\n",
    "y_pred_test_results = (y_pred_test > 0.5).astype(int).flatten()\n",
    "\n",
    "full_pred = np.empty(len(dataset), dtype=int)\n",
    "\n",
    "full_pred[train_indices] = y_pred_train_results\n",
    "full_pred[test_indices] = y_pred_test_results\n",
    "    \n",
    "dataset['predicted'] = full_pred\n",
    "dataset.sample(20)"
   ]
  },
  {
   "cell_type": "code",
   "execution_count": 17,
   "id": "3b869f6e",
   "metadata": {},
   "outputs": [
    {
     "name": "stdout",
     "output_type": "stream",
     "text": [
      "              precision    recall  f1-score   support\n",
      "\n",
      "           0       0.68      0.61      0.65      1006\n",
      "           1       0.65      0.71      0.68       994\n",
      "\n",
      "    accuracy                           0.66      2000\n",
      "   macro avg       0.66      0.66      0.66      2000\n",
      "weighted avg       0.66      0.66      0.66      2000\n",
      "\n"
     ]
    }
   ],
   "source": [
    "from sklearn.metrics import classification_report\n",
    "report = classification_report(y_test, y_pred_test_results)\n",
    "print(report)"
   ]
  }
 ],
 "metadata": {
  "kernelspec": {
   "display_name": ".venv",
   "language": "python",
   "name": "python3"
  },
  "language_info": {
   "codemirror_mode": {
    "name": "ipython",
    "version": 3
   },
   "file_extension": ".py",
   "mimetype": "text/x-python",
   "name": "python",
   "nbconvert_exporter": "python",
   "pygments_lexer": "ipython3",
   "version": "3.10.12"
  }
 },
 "nbformat": 4,
 "nbformat_minor": 5
}
