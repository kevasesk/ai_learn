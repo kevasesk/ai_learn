{
 "cells": [
  {
   "cell_type": "code",
   "execution_count": 1,
   "id": "f2b84bd1",
   "metadata": {},
   "outputs": [],
   "source": [
    "import kagglehub\n",
    "import pandas as pd\n",
    "import numpy as np\n",
    "from transformers import BertTokenizer, TFBertModel\n",
    "import tensorflow as tf"
   ]
  },
  {
   "cell_type": "code",
   "execution_count": 2,
   "id": "38bf25c1",
   "metadata": {},
   "outputs": [
    {
     "name": "stdout",
     "output_type": "stream",
     "text": [
      "Warning: Looks like you're using an outdated `kagglehub` version (installed: 0.3.11), please consider upgrading to the latest version (0.3.12).\n",
      "Path to dataset files: /home/eugen/.cache/kagglehub/datasets/danofer/sarcasm/versions/4\n"
     ]
    }
   ],
   "source": [
    "# Download latest version\n",
    "path = kagglehub.dataset_download(\"danofer/sarcasm\")\n",
    "\n",
    "print(\"Path to dataset files:\", path)"
   ]
  },
  {
   "cell_type": "code",
   "execution_count": 3,
   "id": "38a35735",
   "metadata": {},
   "outputs": [
    {
     "data": {
      "text/html": [
       "<div>\n",
       "<style scoped>\n",
       "    .dataframe tbody tr th:only-of-type {\n",
       "        vertical-align: middle;\n",
       "    }\n",
       "\n",
       "    .dataframe tbody tr th {\n",
       "        vertical-align: top;\n",
       "    }\n",
       "\n",
       "    .dataframe thead th {\n",
       "        text-align: right;\n",
       "    }\n",
       "</style>\n",
       "<table border=\"1\" class=\"dataframe\">\n",
       "  <thead>\n",
       "    <tr style=\"text-align: right;\">\n",
       "      <th></th>\n",
       "      <th>label</th>\n",
       "      <th>comment</th>\n",
       "      <th>author</th>\n",
       "      <th>subreddit</th>\n",
       "      <th>score</th>\n",
       "      <th>ups</th>\n",
       "      <th>downs</th>\n",
       "      <th>date</th>\n",
       "      <th>created_utc</th>\n",
       "      <th>parent_comment</th>\n",
       "    </tr>\n",
       "  </thead>\n",
       "  <tbody>\n",
       "    <tr>\n",
       "      <th>0</th>\n",
       "      <td>0</td>\n",
       "      <td>NC and NH.</td>\n",
       "      <td>Trumpbart</td>\n",
       "      <td>politics</td>\n",
       "      <td>2</td>\n",
       "      <td>-1</td>\n",
       "      <td>-1</td>\n",
       "      <td>2016-10</td>\n",
       "      <td>2016-10-16 23:55:23</td>\n",
       "      <td>Yeah, I get that argument. At this point, I'd ...</td>\n",
       "    </tr>\n",
       "    <tr>\n",
       "      <th>1</th>\n",
       "      <td>0</td>\n",
       "      <td>You do know west teams play against west teams...</td>\n",
       "      <td>Shbshb906</td>\n",
       "      <td>nba</td>\n",
       "      <td>-4</td>\n",
       "      <td>-1</td>\n",
       "      <td>-1</td>\n",
       "      <td>2016-11</td>\n",
       "      <td>2016-11-01 00:24:10</td>\n",
       "      <td>The blazers and Mavericks (The wests 5 and 6 s...</td>\n",
       "    </tr>\n",
       "    <tr>\n",
       "      <th>2</th>\n",
       "      <td>0</td>\n",
       "      <td>They were underdogs earlier today, but since G...</td>\n",
       "      <td>Creepeth</td>\n",
       "      <td>nfl</td>\n",
       "      <td>3</td>\n",
       "      <td>3</td>\n",
       "      <td>0</td>\n",
       "      <td>2016-09</td>\n",
       "      <td>2016-09-22 21:45:37</td>\n",
       "      <td>They're favored to win.</td>\n",
       "    </tr>\n",
       "  </tbody>\n",
       "</table>\n",
       "</div>"
      ],
      "text/plain": [
       "   label                                            comment     author  \\\n",
       "0      0                                         NC and NH.  Trumpbart   \n",
       "1      0  You do know west teams play against west teams...  Shbshb906   \n",
       "2      0  They were underdogs earlier today, but since G...   Creepeth   \n",
       "\n",
       "  subreddit  score  ups  downs     date          created_utc  \\\n",
       "0  politics      2   -1     -1  2016-10  2016-10-16 23:55:23   \n",
       "1       nba     -4   -1     -1  2016-11  2016-11-01 00:24:10   \n",
       "2       nfl      3    3      0  2016-09  2016-09-22 21:45:37   \n",
       "\n",
       "                                      parent_comment  \n",
       "0  Yeah, I get that argument. At this point, I'd ...  \n",
       "1  The blazers and Mavericks (The wests 5 and 6 s...  \n",
       "2                            They're favored to win.  "
      ]
     },
     "execution_count": 3,
     "metadata": {},
     "output_type": "execute_result"
    }
   ],
   "source": [
    "dataset = pd.read_csv(path + '/train-balanced-sarcasm.csv')\n",
    "dataset.head(3)"
   ]
  },
  {
   "cell_type": "code",
   "execution_count": 4,
   "id": "2e7f1578",
   "metadata": {},
   "outputs": [
    {
     "name": "stdout",
     "output_type": "stream",
     "text": [
      "<class 'pandas.core.frame.DataFrame'>\n",
      "Index: 20000 entries, 10702 to 25661\n",
      "Data columns (total 2 columns):\n",
      " #   Column   Non-Null Count  Dtype \n",
      "---  ------   --------------  ----- \n",
      " 0   label    20000 non-null  int64 \n",
      " 1   comment  19999 non-null  object\n",
      "dtypes: int64(1), object(1)\n",
      "memory usage: 468.8+ KB\n"
     ]
    },
    {
     "data": {
      "text/plain": [
       "(None,\n",
       "         label                                            comment\n",
       " 10702       1                                       i forgot the\n",
       " 82187       0                    And the quick goodbye to Canada\n",
       " 967628      0  I'm arguing the metric for measuring how well ...,\n",
       " label      0\n",
       " comment    1\n",
       " dtype: int64)"
      ]
     },
     "execution_count": 4,
     "metadata": {},
     "output_type": "execute_result"
    }
   ],
   "source": [
    "dataset = dataset[['label', 'comment']]\n",
    "dataset = dataset.sample(n=20000)\n",
    "dataset.info(), dataset.head(3), dataset.isna().sum()"
   ]
  },
  {
   "cell_type": "code",
   "execution_count": 5,
   "id": "7cd6a265",
   "metadata": {},
   "outputs": [
    {
     "data": {
      "text/plain": [
       "label      0\n",
       "comment    0\n",
       "dtype: int64"
      ]
     },
     "execution_count": 5,
     "metadata": {},
     "output_type": "execute_result"
    }
   ],
   "source": [
    "dataset.dropna(inplace=True)\n",
    "dataset.isna().sum()"
   ]
  },
  {
   "cell_type": "code",
   "execution_count": 6,
   "id": "0b5525a9",
   "metadata": {},
   "outputs": [
    {
     "data": {
      "text/html": [
       "<div>\n",
       "<style scoped>\n",
       "    .dataframe tbody tr th:only-of-type {\n",
       "        vertical-align: middle;\n",
       "    }\n",
       "\n",
       "    .dataframe tbody tr th {\n",
       "        vertical-align: top;\n",
       "    }\n",
       "\n",
       "    .dataframe thead th {\n",
       "        text-align: right;\n",
       "    }\n",
       "</style>\n",
       "<table border=\"1\" class=\"dataframe\">\n",
       "  <thead>\n",
       "    <tr style=\"text-align: right;\">\n",
       "      <th></th>\n",
       "      <th>label</th>\n",
       "      <th>comment</th>\n",
       "    </tr>\n",
       "  </thead>\n",
       "  <tbody>\n",
       "    <tr>\n",
       "      <th>483736</th>\n",
       "      <td>1</td>\n",
       "      <td>oh so you loved the deckbuilder one</td>\n",
       "    </tr>\n",
       "    <tr>\n",
       "      <th>661743</th>\n",
       "      <td>1</td>\n",
       "      <td>says the class with overpowered cold snap heals</td>\n",
       "    </tr>\n",
       "    <tr>\n",
       "      <th>527469</th>\n",
       "      <td>0</td>\n",
       "      <td>its a different world down there come brother ...</td>\n",
       "    </tr>\n",
       "    <tr>\n",
       "      <th>258498</th>\n",
       "      <td>1</td>\n",
       "      <td>ledeclined to give respect to the rim</td>\n",
       "    </tr>\n",
       "    <tr>\n",
       "      <th>28751</th>\n",
       "      <td>1</td>\n",
       "      <td>thanks for that mental image</td>\n",
       "    </tr>\n",
       "    <tr>\n",
       "      <th>79873</th>\n",
       "      <td>1</td>\n",
       "      <td>i think we can safely say the game is unplayab...</td>\n",
       "    </tr>\n",
       "    <tr>\n",
       "      <th>549783</th>\n",
       "      <td>0</td>\n",
       "      <td>optionf</td>\n",
       "    </tr>\n",
       "    <tr>\n",
       "      <th>167223</th>\n",
       "      <td>0</td>\n",
       "      <td>we should talk to the mods about getting some ...</td>\n",
       "    </tr>\n",
       "    <tr>\n",
       "      <th>643023</th>\n",
       "      <td>1</td>\n",
       "      <td>oh great another chore like the necrochasm tha...</td>\n",
       "    </tr>\n",
       "    <tr>\n",
       "      <th>372358</th>\n",
       "      <td>1</td>\n",
       "      <td>but its not a book they wrote its the literal ...</td>\n",
       "    </tr>\n",
       "  </tbody>\n",
       "</table>\n",
       "</div>"
      ],
      "text/plain": [
       "        label                                            comment\n",
       "483736      1                oh so you loved the deckbuilder one\n",
       "661743      1    says the class with overpowered cold snap heals\n",
       "527469      0  its a different world down there come brother ...\n",
       "258498      1              ledeclined to give respect to the rim\n",
       "28751       1                       thanks for that mental image\n",
       "79873       1  i think we can safely say the game is unplayab...\n",
       "549783      0                                            optionf\n",
       "167223      0  we should talk to the mods about getting some ...\n",
       "643023      1  oh great another chore like the necrochasm tha...\n",
       "372358      1  but its not a book they wrote its the literal ..."
      ]
     },
     "execution_count": 6,
     "metadata": {},
     "output_type": "execute_result"
    }
   ],
   "source": [
    "dataset['comment'] = dataset['comment'].apply(lambda comment: comment.lower())\n",
    "dataset['comment'] = dataset['comment'].str.replace(r'[^a-zA-Z\\s]', '', regex=True)\n",
    "dataset.sample(10)"
   ]
  },
  {
   "cell_type": "code",
   "execution_count": 7,
   "id": "4ada2415",
   "metadata": {},
   "outputs": [],
   "source": [
    "tokenizer = BertTokenizer.from_pretrained('google-bert/bert-base-uncased')"
   ]
  },
  {
   "cell_type": "code",
   "execution_count": 8,
   "id": "2af95dcc",
   "metadata": {},
   "outputs": [
    {
     "data": {
      "text/plain": [
       "{'input_ids': array([[  101,  1045,  9471, ...,     0,     0,     0],\n",
       "       [  101,  1998,  1996, ...,     0,     0,     0],\n",
       "       [  101, 10047,  9177, ...,     0,     0,     0],\n",
       "       ...,\n",
       "       [  101, 16421,  8758, ...,     0,     0,     0],\n",
       "       [  101,  2026,  5542, ...,     0,     0,     0],\n",
       "       [  101,  2763,  2026, ...,     0,     0,     0]]), 'token_type_ids': array([[0, 0, 0, ..., 0, 0, 0],\n",
       "       [0, 0, 0, ..., 0, 0, 0],\n",
       "       [0, 0, 0, ..., 0, 0, 0],\n",
       "       ...,\n",
       "       [0, 0, 0, ..., 0, 0, 0],\n",
       "       [0, 0, 0, ..., 0, 0, 0],\n",
       "       [0, 0, 0, ..., 0, 0, 0]]), 'attention_mask': array([[1, 1, 1, ..., 0, 0, 0],\n",
       "       [1, 1, 1, ..., 0, 0, 0],\n",
       "       [1, 1, 1, ..., 0, 0, 0],\n",
       "       ...,\n",
       "       [1, 1, 1, ..., 0, 0, 0],\n",
       "       [1, 1, 1, ..., 0, 0, 0],\n",
       "       [1, 1, 1, ..., 0, 0, 0]])}"
      ]
     },
     "execution_count": 8,
     "metadata": {},
     "output_type": "execute_result"
    }
   ],
   "source": [
    "def tokenize_text(text):\n",
    "    return tokenizer(\n",
    "         text.tolist(),\n",
    "         max_length = 100,\n",
    "         truncation = True,\n",
    "         padding = 'max_length',\n",
    "         return_tensors = 'np'\n",
    "    )\n",
    "\n",
    "tokenized_comments = tokenize_text(dataset['comment'])\n",
    "tokenized_comments"
   ]
  },
  {
   "cell_type": "code",
   "execution_count": 24,
   "id": "0663cab5",
   "metadata": {},
   "outputs": [
    {
     "name": "stderr",
     "output_type": "stream",
     "text": [
      "Some weights of the PyTorch model were not used when initializing the TF 2.0 model TFBertModel: ['cls.predictions.bias', 'cls.predictions.transform.dense.bias', 'cls.predictions.transform.LayerNorm.bias', 'cls.predictions.transform.LayerNorm.weight', 'cls.seq_relationship.weight', 'cls.seq_relationship.bias', 'cls.predictions.transform.dense.weight']\n",
      "- This IS expected if you are initializing TFBertModel from a PyTorch model trained on another task or with another architecture (e.g. initializing a TFBertForSequenceClassification model from a BertForPreTraining model).\n",
      "- This IS NOT expected if you are initializing TFBertModel from a PyTorch model that you expect to be exactly identical (e.g. initializing a TFBertForSequenceClassification model from a BertForSequenceClassification model).\n",
      "All the weights of TFBertModel were initialized from the PyTorch model.\n",
      "If your task is similar to the task the model of the checkpoint was trained on, you can already use TFBertModel for predictions without further training.\n"
     ]
    }
   ],
   "source": [
    "bert_model = TFBertModel.from_pretrained('bert-base-uncased')\n",
    "model = tf.keras.Sequential([\n",
    "    bert_model,\n",
    "    tf.keras.layers.Lambda(lambda bert_output: bert_output.pooler_output, name=\"extract_pooler_output\"),\n",
    "    tf.keras.layers.Dense(128, activation='relu'),\n",
    "    #tf.keras.layers.Dropout(0.3),\n",
    "    tf.keras.layers.Dense(32, activation='relu'),\n",
    "    #tf.keras.layers.Dropout(0.3),\n",
    "    tf.keras.layers.Dense(1, activation='sigmoid')\n",
    "])\n",
    "optimizer = tf.keras.optimizers.Adam(learning_rate=3e-5)\n",
    "model.compile(optimizer=optimizer, loss='binary_crossentropy', metrics=['accuracy'])"
   ]
  },
  {
   "cell_type": "code",
   "execution_count": 25,
   "id": "31c23305",
   "metadata": {},
   "outputs": [
    {
     "name": "stdout",
     "output_type": "stream",
     "text": [
      "Epoch 1/3\n"
     ]
    },
    {
     "name": "stderr",
     "output_type": "stream",
     "text": [
      "WARNING: All log messages before absl::InitializeLog() is called are written to STDERR\n",
      "I0000 00:00:1749135957.323350  281117 service.cc:152] XLA service 0x7f3884960b90 initialized for platform CUDA (this does not guarantee that XLA will be used). Devices:\n",
      "I0000 00:00:1749135957.323376  281117 service.cc:160]   StreamExecutor device (0): NVIDIA GeForce RTX 4070 Laptop GPU, Compute Capability 8.9\n",
      "2025-06-05 18:05:57.330202: I tensorflow/compiler/mlir/tensorflow/utils/dump_mlir_util.cc:269] disabling MLIR crash reproducer, set env var `MLIR_CRASH_REPRODUCER_DIRECTORY` to enable.\n",
      "I0000 00:00:1749135957.346995  281117 cuda_dnn.cc:529] Loaded cuDNN version 90300\n",
      "I0000 00:00:1749135957.464110  281117 device_compiler.h:188] Compiled cluster using XLA!  This line is logged at most once for the lifetime of the process.\n"
     ]
    },
    {
     "name": "stdout",
     "output_type": "stream",
     "text": [
      "1000/1000 [==============================] - 217s 170ms/step - loss: 0.6106 - accuracy: 0.6659\n",
      "Epoch 2/3\n",
      "1000/1000 [==============================] - 157s 157ms/step - loss: 0.4886 - accuracy: 0.7707\n",
      "Epoch 3/3\n",
      "1000/1000 [==============================] - 157s 157ms/step - loss: 0.2938 - accuracy: 0.8834\n"
     ]
    },
    {
     "data": {
      "text/plain": [
       "<tf_keras.src.callbacks.History at 0x7f39d84f15d0>"
      ]
     },
     "execution_count": 25,
     "metadata": {},
     "output_type": "execute_result"
    }
   ],
   "source": [
    "from sklearn.model_selection import train_test_split\n",
    "\n",
    "\n",
    "labels_tf = tf.constant(dataset['label'].values)\n",
    "indices = np.arange(dataset.shape[0])\n",
    "train_indices, test_indices = train_test_split(\n",
    "    indices,\n",
    "    test_size=0.2,\n",
    "    stratify=dataset['label'].values\n",
    ")\n",
    "\n",
    "X_train = {\n",
    "        'input_ids': tf.gather(tokenized_comments['input_ids'], train_indices),\n",
    "        'attention_mask': tf.gather(tokenized_comments['attention_mask'], train_indices)\n",
    "    }\n",
    "\n",
    "X_test = {\n",
    "    'input_ids': tf.gather(tokenized_comments['input_ids'], test_indices),\n",
    "    'attention_mask': tf.gather(tokenized_comments['attention_mask'], test_indices)\n",
    "}\n",
    "\n",
    "y_train = tf.gather(labels_tf, train_indices)\n",
    "y_test = tf.gather(labels_tf, test_indices)\n",
    "\n",
    "model.fit(X_train, y_train, epochs=3, batch_size=16)"
   ]
  },
  {
   "cell_type": "code",
   "execution_count": 26,
   "id": "351f0042",
   "metadata": {},
   "outputs": [
    {
     "name": "stdout",
     "output_type": "stream",
     "text": [
      "500/500 [==============================] - 60s 115ms/step\n",
      "125/125 [==============================] - 14s 115ms/step\n"
     ]
    }
   ],
   "source": [
    "y_pred_trained = model.predict(X_train)\n",
    "y_pred_test = model.predict(X_test)"
   ]
  },
  {
   "cell_type": "code",
   "execution_count": null,
   "id": "7addfae9",
   "metadata": {},
   "outputs": [
    {
     "data": {
      "text/plain": [
       "(array([0.99869955], dtype=float32),\n",
       " array([0.01339717], dtype=float32),\n",
       " array([0.99862707], dtype=float32),\n",
       " array([0.01438333], dtype=float32))"
      ]
     },
     "execution_count": 27,
     "metadata": {},
     "output_type": "execute_result"
    }
   ],
   "source": [
    "max(y_pred_trained), min(y_pred_trained), max(y_pred_test), min(y_pred_test)"
   ]
  },
  {
   "cell_type": "code",
   "execution_count": 29,
   "id": "06cf60db",
   "metadata": {},
   "outputs": [
    {
     "data": {
      "text/html": [
       "<div>\n",
       "<style scoped>\n",
       "    .dataframe tbody tr th:only-of-type {\n",
       "        vertical-align: middle;\n",
       "    }\n",
       "\n",
       "    .dataframe tbody tr th {\n",
       "        vertical-align: top;\n",
       "    }\n",
       "\n",
       "    .dataframe thead th {\n",
       "        text-align: right;\n",
       "    }\n",
       "</style>\n",
       "<table border=\"1\" class=\"dataframe\">\n",
       "  <thead>\n",
       "    <tr style=\"text-align: right;\">\n",
       "      <th></th>\n",
       "      <th>label</th>\n",
       "      <th>comment</th>\n",
       "      <th>predicted</th>\n",
       "    </tr>\n",
       "  </thead>\n",
       "  <tbody>\n",
       "    <tr>\n",
       "      <th>589228</th>\n",
       "      <td>0</td>\n",
       "      <td>haha no if boston fans hate bart then im expec...</td>\n",
       "      <td>0</td>\n",
       "    </tr>\n",
       "    <tr>\n",
       "      <th>507884</th>\n",
       "      <td>1</td>\n",
       "      <td>but dont worry we made up for it with sorry day</td>\n",
       "      <td>1</td>\n",
       "    </tr>\n",
       "    <tr>\n",
       "      <th>512443</th>\n",
       "      <td>1</td>\n",
       "      <td>got rejected from dream resume booster plz help</td>\n",
       "      <td>0</td>\n",
       "    </tr>\n",
       "    <tr>\n",
       "      <th>528637</th>\n",
       "      <td>1</td>\n",
       "      <td>yeah acne is a really secret brand and the chi...</td>\n",
       "      <td>1</td>\n",
       "    </tr>\n",
       "    <tr>\n",
       "      <th>483220</th>\n",
       "      <td>1</td>\n",
       "      <td>positive navi comment  fangay that needs to stfu</td>\n",
       "      <td>0</td>\n",
       "    </tr>\n",
       "    <tr>\n",
       "      <th>740575</th>\n",
       "      <td>1</td>\n",
       "      <td>shhhh nothing to see here move along people mo...</td>\n",
       "      <td>0</td>\n",
       "    </tr>\n",
       "    <tr>\n",
       "      <th>765010</th>\n",
       "      <td>0</td>\n",
       "      <td>sure sounds like it</td>\n",
       "      <td>0</td>\n",
       "    </tr>\n",
       "    <tr>\n",
       "      <th>321043</th>\n",
       "      <td>0</td>\n",
       "      <td>i hated being made to feel i was doing somethi...</td>\n",
       "      <td>0</td>\n",
       "    </tr>\n",
       "    <tr>\n",
       "      <th>837152</th>\n",
       "      <td>1</td>\n",
       "      <td>is it a picture of koishi</td>\n",
       "      <td>0</td>\n",
       "    </tr>\n",
       "    <tr>\n",
       "      <th>94617</th>\n",
       "      <td>0</td>\n",
       "      <td>i wished the cartoon looked actually good inst...</td>\n",
       "      <td>0</td>\n",
       "    </tr>\n",
       "    <tr>\n",
       "      <th>567140</th>\n",
       "      <td>1</td>\n",
       "      <td>i thought you had studied your fair share of d...</td>\n",
       "      <td>0</td>\n",
       "    </tr>\n",
       "    <tr>\n",
       "      <th>424439</th>\n",
       "      <td>1</td>\n",
       "      <td>wow original</td>\n",
       "      <td>1</td>\n",
       "    </tr>\n",
       "    <tr>\n",
       "      <th>432553</th>\n",
       "      <td>1</td>\n",
       "      <td>yeah gotta make sure all three factions use th...</td>\n",
       "      <td>1</td>\n",
       "    </tr>\n",
       "    <tr>\n",
       "      <th>787002</th>\n",
       "      <td>1</td>\n",
       "      <td>missing a lot of stopscopeflickfire</td>\n",
       "      <td>0</td>\n",
       "    </tr>\n",
       "    <tr>\n",
       "      <th>547695</th>\n",
       "      <td>1</td>\n",
       "      <td>gotcha although im a heavy main so i have noth...</td>\n",
       "      <td>1</td>\n",
       "    </tr>\n",
       "    <tr>\n",
       "      <th>80608</th>\n",
       "      <td>1</td>\n",
       "      <td>this comment has more likes than the human eye...</td>\n",
       "      <td>1</td>\n",
       "    </tr>\n",
       "    <tr>\n",
       "      <th>794994</th>\n",
       "      <td>1</td>\n",
       "      <td>hey man the shoes are nice but the cuff is too...</td>\n",
       "      <td>1</td>\n",
       "    </tr>\n",
       "    <tr>\n",
       "      <th>520644</th>\n",
       "      <td>1</td>\n",
       "      <td>yeah because those strict drug control laws th...</td>\n",
       "      <td>1</td>\n",
       "    </tr>\n",
       "    <tr>\n",
       "      <th>25665</th>\n",
       "      <td>0</td>\n",
       "      <td>yeah i do think id be okay but itd really help...</td>\n",
       "      <td>0</td>\n",
       "    </tr>\n",
       "    <tr>\n",
       "      <th>6733</th>\n",
       "      <td>1</td>\n",
       "      <td>i think you forgot this</td>\n",
       "      <td>1</td>\n",
       "    </tr>\n",
       "  </tbody>\n",
       "</table>\n",
       "</div>"
      ],
      "text/plain": [
       "        label                                            comment  predicted\n",
       "589228      0  haha no if boston fans hate bart then im expec...          0\n",
       "507884      1    but dont worry we made up for it with sorry day          1\n",
       "512443      1    got rejected from dream resume booster plz help          0\n",
       "528637      1  yeah acne is a really secret brand and the chi...          1\n",
       "483220      1   positive navi comment  fangay that needs to stfu          0\n",
       "740575      1  shhhh nothing to see here move along people mo...          0\n",
       "765010      0                                sure sounds like it          0\n",
       "321043      0  i hated being made to feel i was doing somethi...          0\n",
       "837152      1                          is it a picture of koishi          0\n",
       "94617       0  i wished the cartoon looked actually good inst...          0\n",
       "567140      1  i thought you had studied your fair share of d...          0\n",
       "424439      1                                       wow original          1\n",
       "432553      1  yeah gotta make sure all three factions use th...          1\n",
       "787002      1                missing a lot of stopscopeflickfire          0\n",
       "547695      1  gotcha although im a heavy main so i have noth...          1\n",
       "80608       1  this comment has more likes than the human eye...          1\n",
       "794994      1  hey man the shoes are nice but the cuff is too...          1\n",
       "520644      1  yeah because those strict drug control laws th...          1\n",
       "25665       0  yeah i do think id be okay but itd really help...          0\n",
       "6733        1                            i think you forgot this          1"
      ]
     },
     "execution_count": 29,
     "metadata": {},
     "output_type": "execute_result"
    }
   ],
   "source": [
    "y_pred_train_results = (y_pred_trained > 0.5).astype(int).flatten()\n",
    "y_pred_test_results = (y_pred_test > 0.5).astype(int).flatten()\n",
    "\n",
    "full_pred = np.empty(len(dataset), dtype=int)\n",
    "\n",
    "full_pred[train_indices] = y_pred_train_results\n",
    "full_pred[test_indices] = y_pred_test_results\n",
    "    \n",
    "dataset['predicted'] = full_pred\n",
    "dataset.sample(20)"
   ]
  }
 ],
 "metadata": {
  "kernelspec": {
   "display_name": ".venv",
   "language": "python",
   "name": "python3"
  },
  "language_info": {
   "codemirror_mode": {
    "name": "ipython",
    "version": 3
   },
   "file_extension": ".py",
   "mimetype": "text/x-python",
   "name": "python",
   "nbconvert_exporter": "python",
   "pygments_lexer": "ipython3",
   "version": "3.10.12"
  }
 },
 "nbformat": 4,
 "nbformat_minor": 5
}
