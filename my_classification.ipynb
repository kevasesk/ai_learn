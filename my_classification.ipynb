{
 "cells": [
  {
   "cell_type": "code",
   "execution_count": 2,
   "id": "9687eb43-c884-43e4-92da-7f5e1355f534",
   "metadata": {},
   "outputs": [],
   "source": [
    "import math, random, os\n",
    "import numpy as np\n",
    "import pandas as pd\n",
    "%matplotlib inline\n",
    "import matplotlib.pyplot as plt\n",
    "import matplotlib as mpl"
   ]
  },
  {
   "cell_type": "code",
   "execution_count": 3,
   "id": "600530f8-a948-40af-a163-e97bd078d568",
   "metadata": {},
   "outputs": [],
   "source": [
    "csv_path = os.path.join(\"datasets/lesson3\", \"mnist_train.csv\" )\n",
    "dataset = pd.read_csv(csv_path)"
   ]
  },
  {
   "cell_type": "code",
   "execution_count": 4,
   "id": "0d0a53f8-7ee7-45ea-ac6a-4b52f5e65973",
   "metadata": {},
   "outputs": [
    {
     "data": {
      "image/png": "[encoded data removed]",
      "text/plain": [
       "<Figure size 640x480 with 1 Axes>"
      ]
     },
     "metadata": {},
     "output_type": "display_data"
    },
    {
     "data": {
      "text/plain": [
       "np.int64(7)"
      ]
     },
     "execution_count": 4,
     "metadata": {},
     "output_type": "execute_result"
    }
   ],
   "source": [
    "y = dataset.iloc[:, 0]\n",
    "X = dataset.iloc[:, 1:]\n",
    "\n",
    "some_digit_index = 15\n",
    "some_digit = X.values[some_digit_index]\n",
    "some_digit_image = some_digit.reshape(28,28)\n",
    "\n",
    "plt.imshow(some_digit_image, cmap = mpl.cm.binary, interpolation=\"nearest\")\n",
    "plt.show()\n",
    "y[some_digit_index]"
   ]
  },
  {
   "cell_type": "code",
   "execution_count": 5,
   "id": "31bd4464-a8df-4bc5-a522-5527a8f10f5b",
   "metadata": {},
   "outputs": [],
   "source": [
    "from sklearn.linear_model import SGDClassifier\n",
    "\n",
    "sgd_clf = SGDClassifier(max_iter=30, random_state=42)\n",
    "#sgd_clf.fit(X, y)\n",
    "#sgd_clf.predict([some_digit])"
   ]
  },
  {
   "cell_type": "code",
   "execution_count": 6,
   "id": "6bfb7f6e-8cf7-4fec-810a-e65fc63b5204",
   "metadata": {},
   "outputs": [],
   "source": [
    "from sklearn.model_selection import cross_val_score\n",
    "#cross_val_score(sgd_clf, X, y, cv=3, scoring=\"f1_weighted\")"
   ]
  },
  {
   "cell_type": "code",
   "execution_count": 7,
   "id": "2517bac6-ffa9-4de9-b9c7-9009ef444b61",
   "metadata": {},
   "outputs": [],
   "source": [
    "from sklearn.model_selection import cross_val_predict\n",
    "#y_train_pred = cross_val_predict(sgd_clf, X, y, cv=3)"
   ]
  },
  {
   "cell_type": "code",
   "execution_count": 10,
   "id": "aa039b43-4810-41ed-89fe-81a3b91be25c",
   "metadata": {},
   "outputs": [
    {
     "name": "stdout",
     "output_type": "stream",
     "text": [
      "Accuracy: 0.9763\n"
     ]
    },
    {
     "data": {
      "text/plain": [
       "array([[5830,    1,   12,    5,    3,    9,   17,   11,   21,   14],\n",
       "       [   3, 6641,   24,    4,    5,    5,    7,   31,   18,    4],\n",
       "       [  20,    9, 5806,   25,   17,    3,    7,   29,   34,    8],\n",
       "       [   8,    6,   66, 5878,    0,   66,    2,   27,   49,   29],\n",
       "       [   7,   15,   12,    2, 5713,    3,   12,   18,   10,   50],\n",
       "       [  11,    4,    3,   56,    5, 5235,   36,    6,   50,   15],\n",
       "       [  30,    8,    3,    0,   11,   35, 5819,    0,   12,    0],\n",
       "       [   3,   13,   61,   13,   16,    8,    0, 6116,    9,   26],\n",
       "       [  25,   18,   38,   42,   10,   44,   17,    7, 5627,   23],\n",
       "       [  15,    5,    5,   26,   84,   54,    3,   66,   31, 5660]])"
      ]
     },
     "execution_count": 10,
     "metadata": {},
     "output_type": "execute_result"
    }
   ],
   "source": [
    "from sklearn.preprocessing import StandardScaler\n",
    "\n",
    "csv_path_dataset = os.path.join(\"datasets/lesson3\", \"mnist_train.csv\" )\n",
    "csv_path_testset = os.path.join(\"datasets/lesson3\", \"mnist_test.csv\" )\n",
    "dataset = pd.read_csv(csv_path_dataset)\n",
    "testset = pd.read_csv(csv_path_testset)\n",
    "\n",
    "y_train = dataset.iloc[:, 0]\n",
    "X_train = dataset.iloc[:, 1:]\n",
    "\n",
    "y_test = testset.iloc[:, 0]\n",
    "X_test = testset.iloc[:, 1:]\n",
    "\n",
    "scaler = StandardScaler()\n",
    "\n",
    "X_train_scaled = scaler.fit_transform(X_train)\n",
    "X_test_scaled = scaler.transform(X_test)\n",
    "\n",
    "from sklearn.neural_network import MLPClassifier\n",
    "\n",
    "mlp = MLPClassifier(\n",
    "    hidden_layer_sizes=(500, 200),  # Two hidden layers with 500 and 200 neurons\n",
    "    activation='relu',              # ReLU activation function\n",
    "    solver='adam',                  # Adam optimizer\n",
    "    alpha=0.0001,                   # L2 regularization parameter\n",
    "    max_iter=1000,                  # Maximum number of iterations\n",
    "    random_state=42                 # For reproducibility\n",
    ")\n",
    "\n",
    "# Train the model on the scaled training data\n",
    "mlp.fit(X_train_scaled, y_train)\n",
    "\n",
    "# Make predictions on the test set\n",
    "y_pred = mlp.predict(X_test_scaled)\n",
    "\n",
    "# Calculate and print the accuracy\n",
    "from sklearn.metrics import accuracy_score\n",
    "accuracy = accuracy_score(y_test, y_pred)\n",
    "print(f\"Accuracy: {accuracy:.4f}\") # Accuracy: 0.9788\n",
    "\n",
    "\n",
    "from sklearn.model_selection import cross_val_predict\n",
    "y_train_pred = cross_val_predict(mlp, X_train, y_train, cv=3)\n",
    "\n",
    "from sklearn.metrics import confusion_matrix\n",
    "conf_mx = confusion_matrix(y_train, y_train_pred)\n",
    "conf_mx"
   ]
  },
  {
   "cell_type": "code",
   "execution_count": null,
   "id": "5360f0fd-68de-4fa5-bd13-d4ecbdef004a",
   "metadata": {},
   "outputs": [],
   "source": []
  },
  {
   "cell_type": "code",
   "execution_count": null,
   "id": "4fc8b122-b178-4253-b79d-93e38e77106b",
   "metadata": {},
   "outputs": [],
   "source": []
  }
 ],
 "metadata": {
  "kernelspec": {
   "display_name": "Python 3 (ipykernel)",
   "language": "python",
   "name": "python3"
  },
  "language_info": {
   "codemirror_mode": {
    "name": "ipython",
    "version": 3
   },
   "file_extension": ".py",
   "mimetype": "text/x-python",
   "name": "python",
   "nbconvert_exporter": "python",
   "pygments_lexer": "ipython3",
   "version": "3.10.12"
  }
 },
 "nbformat": 4,
 "nbformat_minor": 5
}
