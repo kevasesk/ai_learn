{
 "cells": [
  {
   "cell_type": "code",
   "execution_count": null,
   "id": "aa66718d",
   "metadata": {},
   "outputs": [],
   "source": [
    "import numpy as np\n",
    "import tensorflow as tf\n",
    "import tensorflow_datasets as tfds\n"
   ]
  },
  {
   "cell_type": "code",
   "execution_count": 41,
   "id": "592fd648",
   "metadata": {},
   "outputs": [
    {
     "name": "stdout",
     "output_type": "stream",
     "text": [
      "Epoch 1/5\n",
      "\u001b[1m600/600\u001b[0m \u001b[32m━━━━━━━━━━━━━━━━━━━━\u001b[0m\u001b[37m\u001b[0m \u001b[1m7s\u001b[0m 10ms/step - accuracy: 0.8527 - loss: 0.5208 - val_accuracy: 0.9552 - val_loss: 0.1495\n",
      "Epoch 2/5\n",
      "\u001b[1m600/600\u001b[0m \u001b[32m━━━━━━━━━━━━━━━━━━━━\u001b[0m\u001b[37m\u001b[0m \u001b[1m4s\u001b[0m 7ms/step - accuracy: 0.9630 - loss: 0.1249 - val_accuracy: 0.9702 - val_loss: 0.1007\n",
      "Epoch 3/5\n",
      "\u001b[1m600/600\u001b[0m \u001b[32m━━━━━━━━━━━━━━━━━━━━\u001b[0m\u001b[37m\u001b[0m \u001b[1m3s\u001b[0m 5ms/step - accuracy: 0.9768 - loss: 0.0800 - val_accuracy: 0.9735 - val_loss: 0.0862\n",
      "Epoch 4/5\n",
      "\u001b[1m600/600\u001b[0m \u001b[32m━━━━━━━━━━━━━━━━━━━━\u001b[0m\u001b[37m\u001b[0m \u001b[1m5s\u001b[0m 8ms/step - accuracy: 0.9817 - loss: 0.0618 - val_accuracy: 0.9743 - val_loss: 0.0820\n",
      "Epoch 5/5\n",
      "\u001b[1m600/600\u001b[0m \u001b[32m━━━━━━━━━━━━━━━━━━━━\u001b[0m\u001b[37m\u001b[0m \u001b[1m5s\u001b[0m 9ms/step - accuracy: 0.9867 - loss: 0.0450 - val_accuracy: 0.9763 - val_loss: 0.0774\n",
      "\u001b[1m100/100\u001b[0m \u001b[32m━━━━━━━━━━━━━━━━━━━━\u001b[0m\u001b[37m\u001b[0m \u001b[1m1s\u001b[0m 5ms/step - accuracy: 0.9750 - loss: 0.0794\n",
      "Test accuracy: 0.9763\n"
     ]
    }
   ],
   "source": [
    "# Load MNIST dataset\n",
    "mnist_data = tfds.load(\"mnist\")\n",
    "mnist_train, mnist_test = mnist_data[\"train\"], mnist_data[\"test\"]\n",
    "\n",
    "# Preprocess function to normalize images\n",
    "def preprocess(example):\n",
    "    image = tf.cast(example[\"image\"], tf.float32) / 255.0  # Normalize to [0, 1]\n",
    "    label = example[\"label\"]\n",
    "    return image, label\n",
    "\n",
    "# Apply preprocessing, shuffle, and batch the datasets\n",
    "mnist_train = mnist_train.map(preprocess).shuffle(1000).batch(100)\n",
    "mnist_test = mnist_test.map(preprocess).batch(100)\n",
    "\n",
    "# Define the model\n",
    "model = tf.keras.Sequential([\n",
    "    tf.keras.layers.Flatten(input_shape=(28, 28)),\n",
    "    tf.keras.layers.Dense(200, activation='relu'),\n",
    "    tf.keras.layers.Dense(50, activation='relu'),\n",
    "    tf.keras.layers.Dense(10, activation='softmax')\n",
    "])\n",
    "\n",
    "# Compile the model\n",
    "model.compile(optimizer='adam',\n",
    "              loss='sparse_categorical_crossentropy',\n",
    "              metrics=['accuracy'])\n",
    "\n",
    "\n",
    "# Train the model\n",
    "model.fit(mnist_train, epochs=5, validation_data=mnist_test)\n",
    "\n",
    "# Evaluate the model\n",
    "test_loss, test_accuracy = model.evaluate(mnist_test)\n",
    "print(f\"Test accuracy: {test_accuracy:.4f}\")\n",
    "\n"
   ]
  },
  {
   "cell_type": "code",
   "execution_count": null,
   "id": "211a0ba7",
   "metadata": {},
   "outputs": [
    {
     "name": "stdout",
     "output_type": "stream",
     "text": [
      "(28, 28, 1)\n",
      "(1, 28, 28, 1)\n",
      "\u001b[1m1/1\u001b[0m \u001b[32m━━━━━━━━━━━━━━━━━━━━\u001b[0m\u001b[37m\u001b[0m \u001b[1m0s\u001b[0m 97ms/step\n",
      "True class: 4\n",
      "Predicted class: 4\n"
     ]
    },
    {
     "data": {
      "image/png": "[encoded data removed]",
      "text/plain": [
       "<Figure size 640x480 with 1 Axes>"
      ]
     },
     "metadata": {},
     "output_type": "display_data"
    }
   ],
   "source": [
    "import matplotlib.pyplot as plt\n",
    "\n",
    "def get_random_test_item(dataset):\n",
    "    # Convert dataset to a list of batches and take one batch\n",
    "    for batch in dataset.take(1):\n",
    "        images, labels = batch\n",
    "        # Select a random index from the batch\n",
    "        random_idx = np.random.randint(0, images.shape[0])\n",
    "        image = images[random_idx]\n",
    "        label = labels[random_idx]\n",
    "        return image, label\n",
    "\n",
    "# Get a random test image and label\n",
    "random_image, true_label = get_random_test_item(mnist_test)\n",
    "\n",
    "# Reshape image for prediction (model expects a batch, so add batch dimension)\n",
    "random_image_input = tf.expand_dims(random_image, axis=0)  # Shape: (1, 28, 28)\n",
    "\n",
    "# Make prediction\n",
    "predictions = model.predict(random_image_input)\n",
    "predicted_class = np.argmax(predictions[0])  # Get index of highest probability\n",
    "\n",
    "# Print results\n",
    "print(f\"True class: {true_label.numpy()}\")\n",
    "print(f\"Predicted class: {predicted_class}\")\n",
    "\n",
    "# Visualize the image\n",
    "plt.imshow(random_image.numpy().reshape(28, 28), cmap='gray')\n",
    "plt.title(f\"True Label: {true_label.numpy()}, Predicted: {predicted_class}\")\n",
    "plt.axis('off')\n",
    "plt.show()"
   ]
  }
 ],
 "metadata": {
  "kernelspec": {
   "display_name": ".venv",
   "language": "python",
   "name": "python3"
  },
  "language_info": {
   "codemirror_mode": {
    "name": "ipython",
    "version": 3
   },
   "file_extension": ".py",
   "mimetype": "text/x-python",
   "name": "python",
   "nbconvert_exporter": "python",
   "pygments_lexer": "ipython3",
   "version": "3.10.12"
  }
 },
 "nbformat": 4,
 "nbformat_minor": 5
}
